{
 "cells": [
  {
   "cell_type": "code",
   "execution_count": null,
   "id": "ef7e5b63",
   "metadata": {},
   "outputs": [],
   "source": [
    "from core.text_generation.emails import generate_email_with_llm\n",
    "from core import types\n",
    "from core.text_generation import _prompts\n",
    "import time"
   ]
  },
  {
   "cell_type": "code",
   "execution_count": null,
   "id": "43b4e6ae",
   "metadata": {
    "scrolled": false
   },
   "outputs": [],
   "source": [
    "for model in [\"gpt-4\", \"gpt-3.5-turbo\", \"text-davinci-003\"]:\n",
    "    for temperature in [0, 0.5, 1.0]:\n",
    "        for _ in range(5):\n",
    "            while True:\n",
    "                try:\n",
    "                    subject, body = generate_email_with_llm(\n",
    "                        from_name = \"Rick\",\n",
    "                        from_last_name = None,\n",
    "                        to_name = \"Yannick\",\n",
    "                        to_last_name = \"Perrenet\",\n",
    "                        formal_level= types.TextFormalityLevel.INFORMAL,\n",
    "                        urgency_level = types.TextUrgencyLevel.NORMAL,\n",
    "                        text_request_type = types.TextRequestType.LOOK_INTO_THIS,\n",
    "                        text_request_reason = types.TextRequestReason.NOT_WORKING,\n",
    "                        text_request_length = types.TextRequestLength.SHORT,\n",
    "                        include_link = True,\n",
    "                        temperature = temperature,\n",
    "                        model=model\n",
    "                    )\n",
    "                    break\n",
    "                except Exception as e:\n",
    "                    # print(e)\n",
    "                    ...\n",
    "            print(\"------------\")\n",
    "            print(f\"Model: {model}.\")\n",
    "            print(f\"Temperature: {temperature}.\")\n",
    "            print(f\"Subject: {subject}.\")\n",
    "            print(body)"
   ]
  },
  {
   "cell_type": "code",
   "execution_count": null,
   "id": "5d536346",
   "metadata": {},
   "outputs": [],
   "source": []
  },
  {
   "cell_type": "code",
   "execution_count": null,
   "id": "5dfb2e12",
   "metadata": {
    "scrolled": false
   },
   "outputs": [],
   "source": [
    "# print(_prompts.email_prompt)"
   ]
  },
  {
   "cell_type": "code",
   "execution_count": null,
   "id": "b8eb2373",
   "metadata": {},
   "outputs": [],
   "source": []
  }
 ],
 "metadata": {
  "kernelspec": {
   "display_name": "Django Shell-Plus",
   "language": "python",
   "name": "django_extensions"
  },
  "language_info": {
   "codemirror_mode": {
    "name": "ipython",
    "version": 3
   },
   "file_extension": ".py",
   "mimetype": "text/x-python",
   "name": "python",
   "nbconvert_exporter": "python",
   "pygments_lexer": "ipython3",
   "version": "3.9.15"
  }
 },
 "nbformat": 4,
 "nbformat_minor": 5
}
